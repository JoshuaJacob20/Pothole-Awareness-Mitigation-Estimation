{
 "cells": [
  {
   "cell_type": "markdown",
   "id": "35fc6642-13c4-42fe-958a-1561d5fdd054",
   "metadata": {},
   "source": [
    "#### ESP32 Stereo Camera Code"
   ]
  },
  {
   "cell_type": "code",
   "execution_count": 1,
   "id": "25f813a1-d342-4ce3-9bd3-760a5b8ab46a",
   "metadata": {},
   "outputs": [],
   "source": [
    "import copy\n",
    "import math\n",
    "\n",
    "import requests\n",
    "\n",
    "import numpy as np\n",
    "import cv2\n",
    "import matplotlib.pyplot as plt\n",
    "import scipy\n",
    "import scipy.optimize\n",
    "import torch\n",
    "import torchvision\n",
    "import torchvision.transforms.functional as tvtf\n",
    "\n",
    "#this is the file with auxillary functions. stereo_image_utils.py. Should be in the same\n",
    "#directory as the notebook\n",
    "import stereo_image_utils\n",
    "from stereo_image_utils import get_detections, get_cost, draw_detections, annotate_class2 \n",
    "from stereo_image_utils import get_horiz_dist_corner_tl, get_horiz_dist_corner_br, get_dist_to_centre_tl, get_dist_to_centre_br\n",
    "from ultralytics import YOLO"
   ]
  },
  {
   "cell_type": "code",
   "execution_count": 2,
   "id": "a25d2a9e-dadd-4d8f-b2b2-d82deca85141",
   "metadata": {},
   "outputs": [],
   "source": [
    "URL_left = \"http://192.168.0.102\"\n",
    "URL_right = \"http://192.168.0.103\"\n",
    "AWB = True\n",
    "cnt = 1\n",
    "\n",
    "#focal length. Pre-calibrated in stereo_image_v6 notebook\n",
    "fl = -2.4910721700855447\n",
    "tantheta = 0.4442359802989689\n",
    "\n",
    "\n"
   ]
  },
  {
   "cell_type": "code",
   "execution_count": 3,
   "id": "69fb78e9-a034-4ee7-a494-4c05894819bb",
   "metadata": {},
   "outputs": [],
   "source": [
    "COLOURS = [\n",
    "    tuple(int(colour_hex.strip('#')[i:i+2], 16) for i in (0, 2, 4))\n",
    "    for colour_hex in plt.rcParams['axes.prop_cycle'].by_key()['color']\n",
    "]"
   ]
  },
  {
   "cell_type": "code",
   "execution_count": 4,
   "id": "946b04d2-f3d4-4c92-a399-dcca23652d05",
   "metadata": {},
   "outputs": [
    {
     "name": "stderr",
     "output_type": "stream",
     "text": [
      "YOLOv5  2023-4-9 Python-3.9.16 torch-1.13.1+cu116 CUDA:0 (NVIDIA GeForce RTX 3060 Laptop GPU, 6144MiB)\n",
      "\n",
      "Fusing layers... \n",
      "Model summary: 157 layers, 7012822 parameters, 0 gradients, 15.8 GFLOPs\n",
      "Adding AutoShape... \n"
     ]
    }
   ],
   "source": [
    "model = YOLO('best.pt',conf=0.65) \n"
   ]
  },
  {
   "cell_type": "code",
   "execution_count": 5,
   "id": "cc60b19f-e830-44b0-85cf-96e9b836c8d8",
   "metadata": {},
   "outputs": [],
   "source": [
    "#capture the images\n",
    "cap_left = cv2.VideoCapture(URL_left + \":81/stream\")\n",
    "cap_right = cv2.VideoCapture(URL_right + \":81/stream\")"
   ]
  },
  {
   "cell_type": "code",
   "execution_count": 6,
   "id": "5bbde1af-f138-40c2-bc12-38c0b940cbaa",
   "metadata": {},
   "outputs": [],
   "source": [
    "#functions for the command handler\n",
    "\n",
    "def set_resolution(url: str, index: int=1, verbose: bool=False):\n",
    "    try:\n",
    "        if verbose:\n",
    "            resolutions = \"10: UXGA(1600x1200)\\n9: SXGA(1280x1024)\\n8: XGA(1024x768)\\n7: SVGA(800x600)\\n6: VGA(640x480)\\n5: CIF(400x296)\\n4: QVGA(320x240)\\n3: HQVGA(240x176)\\n0: QQVGA(160x120)\"\n",
    "            print(\"available resolutions\\n{}\".format(resolutions))\n",
    "\n",
    "        if index in [10, 9, 8, 7, 6, 5, 4, 3, 0]:\n",
    "            requests.get(url + \"/control?var=framesize&val={}\".format(index))\n",
    "        else:\n",
    "            print(\"Wrong index\")\n",
    "    except:\n",
    "        print(\"SET_RESOLUTION: something went wrong\")\n",
    "\n",
    "def set_quality(url: str, value: int=1, verbose: bool=False):\n",
    "    try:\n",
    "        if value >= 10 and value <=63:\n",
    "            requests.get(url + \"/control?var=quality&val={}\".format(value))\n",
    "    except:\n",
    "        print(\"SET_QUALITY: something went wrong\")\n",
    "\n",
    "def set_awb(url: str, awb: int=1):\n",
    "    try:\n",
    "        awb = not awb\n",
    "        requests.get(url + \"/control?var=awb&val={}\".format(1 if awb else 0))\n",
    "    except:\n",
    "        print(\"SET_QUALITY: something went wrong\")\n",
    "    return awb\n",
    "\n",
    "\n",
    "#26 37 38"
   ]
  },
  {
   "cell_type": "code",
   "execution_count": null,
   "id": "da4b71de",
   "metadata": {},
   "outputs": [],
   "source": [
    "import math\n",
    "import numpy as np\n",
    "def calculate_real_area(dis,pixel_area)\n",
    "    fov_degrees = 62  \n",
    "    pixel_size_um = 2.2  \n",
    "    camera_distance_to_ground_cm = dis\n",
    "    image_width_pixels = 1600 \n",
    "\n",
    "    # Convert pixel size to cm\n",
    "    pixel_size_cm = pixel_size_um * 1e-4\n",
    "\n",
    "    # Calculate the view width at the pothole's distance\n",
    "    fov_radians = math.radians(fov_degrees)\n",
    "    view_width_cm = 2 * camera_distance_to_ground_cm * math.tan(fov_radians / 2)\n",
    "\n",
    "    # Calculate ground coverage per pixel (GCP)\n",
    "    gcp_cm_per_pixel = view_width_cm / image_width_pixels\n",
    "\n",
    "    real_area_cm2 = pixel_area * (gcp_cm_per_pixel ** 2)\n",
    "    return real_area_cm2"
   ]
  },
  {
   "cell_type": "code",
   "execution_count": null,
   "id": "f3536ec8",
   "metadata": {},
   "outputs": [],
   "source": [
    "import requests\n",
    "WRITE_API_KEY = '1768JVHS6OOX0ET1'\n",
    "base_url = 'https://api.thingspeak.com/update'"
   ]
  },
  {
   "cell_type": "code",
   "execution_count": 7,
   "id": "9de4bf26-9aae-4fed-9923-5136b233e227",
   "metadata": {},
   "outputs": [
    {
     "name": "stdout",
     "output_type": "stream",
     "text": [
      "[{'xmin': 6.729915618896484, 'ymin': 15.49006175994873, 'xmax': 161.0913848876953, 'ymax': 231.02584838867188, 'confidence': 0.31408315896987915, 'class': 0, 'name': 'pothole'}]\n",
      "[{'xmin': 6.729915618896484, 'ymin': 15.49006175994873, 'xmax': 161.0913848876953, 'ymax': 231.02584838867188, 'confidence': 0.31408315896987915, 'class': 0, 'name': 'pothole'}]\n",
      "[{'xmin': 44.95134735107422, 'ymin': 233.05908203125, 'xmax': 110.85308074951172, 'ymax': 281.87847900390625, 'confidence': 0.5788331627845764, 'class': 0, 'name': 'pothole'}, {'xmin': 0.0, 'ymin': 18.14551544189453, 'xmax': 480.0, 'ymax': 305.733154296875, 'confidence': 0.21439535915851593, 'class': 0, 'name': 'pothole'}]\n",
      "[{'xmin': 44.95134735107422, 'ymin': 233.05908203125, 'xmax': 110.85308074951172, 'ymax': 281.87847900390625, 'confidence': 0.5788331627845764, 'class': 0, 'name': 'pothole'}, {'xmin': 0.0, 'ymin': 18.14551544189453, 'xmax': 480.0, 'ymax': 305.733154296875, 'confidence': 0.21439535915851593, 'class': 0, 'name': 'pothole'}]\n",
      "[(6.729915618896484, 15.49006175994873, 161.0913848876953, 231.02584838867188), (44.95134735107422, 233.05908203125, 110.85308074951172, 281.87847900390625), (0.0, 18.14551544189453, 480.0, 305.733154296875)]\n",
      "pothole is 46.1cm away\n"
     ]
    },
    {
     "ename": "AttributeError",
     "evalue": "'tuple' object has no attribute 'astype'",
     "output_type": "error",
     "traceback": [
      "\u001b[1;31m---------------------------------------------------------------------------\u001b[0m",
      "\u001b[1;31mAttributeError\u001b[0m                            Traceback (most recent call last)",
      "Cell \u001b[1;32mIn[7], line 62\u001b[0m\n\u001b[0;32m     60\u001b[0m \u001b[38;5;28;01mfor\u001b[39;00m i, imgi \u001b[38;5;129;01min\u001b[39;00m \u001b[38;5;28menumerate\u001b[39m(imgs):\n\u001b[0;32m     61\u001b[0m     img \u001b[38;5;241m=\u001b[39m imgi\u001b[38;5;241m.\u001b[39mcopy()\n\u001b[1;32m---> 62\u001b[0m     deti \u001b[38;5;241m=\u001b[39m \u001b[43mdet\u001b[49m\u001b[43m[\u001b[49m\u001b[43mi\u001b[49m\u001b[43m]\u001b[49m\u001b[38;5;241;43m.\u001b[39;49m\u001b[43mastype\u001b[49m(np\u001b[38;5;241m.\u001b[39mint32)\n\u001b[0;32m     63\u001b[0m     draw_detections(img,deti[\u001b[38;5;28mlist\u001b[39m(tracks[i])], obj_order\u001b[38;5;241m=\u001b[39m\u001b[38;5;28mlist\u001b[39m(t1[\u001b[38;5;241m1\u001b[39m]))\n\u001b[0;32m     64\u001b[0m     annotate_class2(img,deti[\u001b[38;5;28mlist\u001b[39m(tracks[i])],lbls[i][\u001b[38;5;28mlist\u001b[39m(tracks[i])])\n",
      "\u001b[1;31mAttributeError\u001b[0m: 'tuple' object has no attribute 'astype'"
     ]
    }
   ],
   "source": [
    "if __name__ == '__main__':\n",
    "    set_resolution(URL_left, index=7)\n",
    "    set_resolution(URL_right, index=7)\n",
    "\n",
    "    while True:\n",
    "        if cap_left.isOpened():\n",
    "            ret_l, frame_l = cap_left.read()\n",
    "            if ret_l:\n",
    "                cv2.imshow(\"left_eye\", frame_l) \n",
    "            else:\n",
    "                cap_left.release()\n",
    "                cap_left = cv2.VideoCapture(URL_left + \":81/stream\")\n",
    "\n",
    "        if cap_right.isOpened():\n",
    "            ret_r, frame_r = cap_right.read()\n",
    "\n",
    "            if ret_r:\n",
    "                cv2.imshow(\"right_eye\", frame_r) \n",
    "            else:\n",
    "                cap_right.release()\n",
    "                cap_right = cv2.VideoCapture(URL_right + \":81/stream\")\n",
    "        \n",
    "        if ret_r and ret_l :\n",
    "            #do stereo matching\n",
    "            imgs = [cv2.cvtColor(frame_l, cv2.COLOR_BGR2RGB),cv2.cvtColor(frame_r, cv2.COLOR_BGR2RGB)]\n",
    "            if cnt == 0:\n",
    "                cnt = 1\n",
    "                \n",
    "                det= get_detections(model,imgs)\n",
    "#                 if (len(det[1])==len(det[0])):\n",
    "#                     det[1] = det[1][:-1]\n",
    "                sz1 = frame_r.shape[1]\n",
    "                centre = sz1/2\n",
    "                print(det)\n",
    "                cost = get_cost(det, lbls = 'pothole',sz1 = centre)\n",
    "                tracks = scipy.optimize.linear_sum_assignment(cost)\n",
    "\n",
    "                dists_tl =  get_horiz_dist_corner_tl(det)\n",
    "                dists_br =  get_horiz_dist_corner_br(det)\n",
    "\n",
    "                final_dists = []\n",
    "                dctl = get_dist_to_centre_tl(det[0],cntr = centre)\n",
    "                dcbr = get_dist_to_centre_br(det[0], cntr = centre)\n",
    "\n",
    "                for i, j in zip(*tracks):\n",
    "                    if dctl[i] < dcbr[i]:\n",
    "                        final_dists.append(dists_tl[i][j])\n",
    "\n",
    "                    else:\n",
    "                        final_dists.append(dists_br[i][j])\n",
    "                \n",
    "                #final distances as list\n",
    "                fd = [i for i in final_dists]\n",
    "                #find distance away\n",
    "                dists_away = (9.1/2)*sz1*(1/tantheta)/np.array((fd))+fl\n",
    "                for i in range(len(dists_away)):\n",
    "                    print(f'pothole is {dists_away[i]:.1f}cm away')\n",
    "                t1 = [list(tracks[1]), list(tracks[0])]\n",
    "                frames_ret=[]\n",
    "                for i, imgi in enumerate(imgs):\n",
    "                    results = model(frame)\n",
    "                    img=results[0].plot()\n",
    "                    frames_ret.append(img)\n",
    "                cv2.imshow(\"left_eye\", cv2.cvtColor(frames_ret[0],cv2.COLOR_RGB2BGR))\n",
    "                cv2.imshow(\"right_eye\", cv2.cvtColor(frames_ret[1],cv2.COLOR_RGB2BGR))\n",
    "                while True:\n",
    "                    key1 = cv2.waitKey(1)\n",
    "                    if key1 == ord('p'):\n",
    "                        break\n",
    "#                 key1 = cv2.waitKey(1)\n",
    "        \n",
    "        key = cv2.waitKey(1)\n",
    "        if key == ord('s'):\n",
    "            mask = (results[0].masks.data[0].cpu().numpy() * 255).astype('uint8')\n",
    "            pothole_mask = mask> 128  \n",
    "            pothole_pixel_area = np.sum(pothole_mask)\n",
    "            pothole_area_cm2 = calculate_real_area(dists_away,pothole_pixel_area)\n",
    "            data = {\n",
    "            'api_key': WRITE_API_KEY,\n",
    "            'field3': dists_away,\n",
    "            'field4': pothole_area_cm2,}\n",
    "            response = requests.get(base_url, params=data)\n",
    "            if response.status_code == 200:\n",
    "                print('Data successfully written to ThingSpeak.')\n",
    "\n",
    "        if key == ord('r'):\n",
    "            idx = int(input(\"Select resolution index: \"))\n",
    "            set_resolution(URL_left, index=idx, verbose=True)\n",
    "            set_resolution(URL_right, index=idx, verbose=True)\n",
    "\n",
    "        elif key == ord('q'):\n",
    "            val = int(input(\"Set quality (10 - 63): \"))\n",
    "            set_quality(URL_left, value=val)\n",
    "            set_quality(URL_right, value=val)\n",
    "\n",
    "        elif key == ord('a'):\n",
    "            AWB = set_awb(URL_left, AWB)\n",
    "            AWB = set_awb(URL_right, AWB)\n",
    "            \n",
    "        elif key == ord('p'): #3d\n",
    "            cnt = 0\n",
    "\n",
    "        elif key == 27:\n",
    "            break\n",
    "\n",
    "    cv2.destroyAllWindows()\n",
    "    cap_left.release()\n",
    "    cap_right.release()"
   ]
  },
  {
   "cell_type": "code",
   "execution_count": 8,
   "id": "809ed255",
   "metadata": {},
   "outputs": [],
   "source": [
    "boxes=[(29.358919143676758, 17.992290496826172, 142.08438110351562, 246.26510620117188), (23.16595458984375, 24.765979766845703, 480.0, 305.67779541015625)]\n"
   ]
  },
  {
   "cell_type": "code",
   "execution_count": 9,
   "id": "0f72870f",
   "metadata": {},
   "outputs": [
    {
     "name": "stdout",
     "output_type": "stream",
     "text": [
      "(29.358919143676758, 17.992290496826172, 142.08438110351562, 246.26510620117188)\n",
      "(23.16595458984375, 24.765979766845703, 480.0, 305.67779541015625)\n"
     ]
    }
   ],
   "source": [
    "for i in boxes:\n",
    "    print(i)"
   ]
  },
  {
   "cell_type": "code",
   "execution_count": 30,
   "id": "db7a330b",
   "metadata": {},
   "outputs": [
    {
     "name": "stdout",
     "output_type": "stream",
     "text": [
      "29.358919143676758\n",
      "17.992290496826172\n",
      "142.08438110351562\n",
      "246.26510620117188\n"
     ]
    }
   ],
   "source": [
    "for y in boxes[0]:\n",
    "    print(y)"
   ]
  },
  {
   "cell_type": "code",
   "execution_count": 38,
   "id": "bacd2b0d",
   "metadata": {},
   "outputs": [],
   "source": [
    "tlx, tly, brx, bry=boxes[0],boxes[1],boxes[2],boxes[3]\n",
    "cx = (tlx+brx)/2\n",
    "cy = (tly+bry)/2\n"
   ]
  },
  {
   "cell_type": "code",
   "execution_count": 39,
   "id": "7ad8e217",
   "metadata": {},
   "outputs": [],
   "source": [
    "points = []\n",
    "points.append([cx, cy])"
   ]
  },
  {
   "cell_type": "code",
   "execution_count": 43,
   "id": "bbedf266",
   "metadata": {},
   "outputs": [],
   "source": [
    "a=np.array(points)"
   ]
  },
  {
   "cell_type": "code",
   "execution_count": 44,
   "id": "8720d143",
   "metadata": {},
   "outputs": [
    {
     "data": {
      "text/plain": [
       "array([[     85.722,      132.13]])"
      ]
     },
     "execution_count": 44,
     "metadata": {},
     "output_type": "execute_result"
    }
   ],
   "source": [
    "a"
   ]
  },
  {
   "cell_type": "code",
   "execution_count": 47,
   "id": "71de7979",
   "metadata": {},
   "outputs": [
    {
     "data": {
      "text/plain": [
       "array([     132.13])"
      ]
     },
     "execution_count": 47,
     "metadata": {},
     "output_type": "execute_result"
    }
   ],
   "source": [
    "a[:,1]"
   ]
  },
  {
   "cell_type": "code",
   "execution_count": null,
   "id": "868bb1d1",
   "metadata": {},
   "outputs": [],
   "source": []
  }
 ],
 "metadata": {
  "kernelspec": {
   "display_name": "Python 3 (ipykernel)",
   "language": "python",
   "name": "python3"
  },
  "language_info": {
   "codemirror_mode": {
    "name": "ipython",
    "version": 3
   },
   "file_extension": ".py",
   "mimetype": "text/x-python",
   "name": "python",
   "nbconvert_exporter": "python",
   "pygments_lexer": "ipython3",
   "version": "3.11.5"
  }
 },
 "nbformat": 4,
 "nbformat_minor": 5
}
