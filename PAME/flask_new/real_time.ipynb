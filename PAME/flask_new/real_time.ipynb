{
 "cells": [
  {
   "cell_type": "code",
   "execution_count": 1,
   "id": "94fa4ed3",
   "metadata": {},
   "outputs": [],
   "source": [
    "import pandas as pd\n",
    "import sqlite3"
   ]
  },
  {
   "cell_type": "code",
   "execution_count": 2,
   "id": "03933092",
   "metadata": {},
   "outputs": [
    {
     "data": {
      "text/html": [
       "<div>\n",
       "<style scoped>\n",
       "    .dataframe tbody tr th:only-of-type {\n",
       "        vertical-align: middle;\n",
       "    }\n",
       "\n",
       "    .dataframe tbody tr th {\n",
       "        vertical-align: top;\n",
       "    }\n",
       "\n",
       "    .dataframe thead th {\n",
       "        text-align: right;\n",
       "    }\n",
       "</style>\n",
       "<table border=\"1\" class=\"dataframe\">\n",
       "  <thead>\n",
       "    <tr style=\"text-align: right;\">\n",
       "      <th></th>\n",
       "      <th>created_at</th>\n",
       "      <th>entry_id</th>\n",
       "      <th>field1</th>\n",
       "      <th>field2</th>\n",
       "      <th>field3</th>\n",
       "      <th>field4</th>\n",
       "      <th>Place</th>\n",
       "      <th>Location</th>\n",
       "      <th>elevation</th>\n",
       "      <th>status</th>\n",
       "    </tr>\n",
       "  </thead>\n",
       "  <tbody>\n",
       "    <tr>\n",
       "      <th>0</th>\n",
       "      <td>4/3/24 17:52</td>\n",
       "      <td>2</td>\n",
       "      <td>lat:8.501768,long:76.967353</td>\n",
       "      <td>193.0</td>\n",
       "      <td>187.127031</td>\n",
       "      <td>6862.837622</td>\n",
       "      <td>Thiruvananthapuram</td>\n",
       "      <td>/static/pothole/img1.jpg</td>\n",
       "      <td>NaN</td>\n",
       "      <td>NaN</td>\n",
       "    </tr>\n",
       "    <tr>\n",
       "      <th>1</th>\n",
       "      <td>4/18/24 12:35</td>\n",
       "      <td>3</td>\n",
       "      <td>lat:8.518357,long:76.950710</td>\n",
       "      <td>176.0</td>\n",
       "      <td>171.883246</td>\n",
       "      <td>5964.687390</td>\n",
       "      <td>Thiruvananthapuram</td>\n",
       "      <td>/static/pothole/img2.jpg</td>\n",
       "      <td>NaN</td>\n",
       "      <td>NaN</td>\n",
       "    </tr>\n",
       "    <tr>\n",
       "      <th>2</th>\n",
       "      <td>5/18/24 16:39</td>\n",
       "      <td>4</td>\n",
       "      <td>lat:8.501768,long:76.967353</td>\n",
       "      <td>168.4</td>\n",
       "      <td>161.400000</td>\n",
       "      <td>1538.500000</td>\n",
       "      <td>Thiruvananthapuram</td>\n",
       "      <td>/static/pothole/img12.jpg</td>\n",
       "      <td>NaN</td>\n",
       "      <td>NaN</td>\n",
       "    </tr>\n",
       "  </tbody>\n",
       "</table>\n",
       "</div>"
      ],
      "text/plain": [
       "      created_at  entry_id                       field1  field2      field3  \\\n",
       "0   4/3/24 17:52         2  lat:8.501768,long:76.967353   193.0  187.127031   \n",
       "1  4/18/24 12:35         3  lat:8.518357,long:76.950710   176.0  171.883246   \n",
       "2  5/18/24 16:39         4  lat:8.501768,long:76.967353   168.4  161.400000   \n",
       "\n",
       "        field4               Place                   Location  elevation  \\\n",
       "0  6862.837622  Thiruvananthapuram   /static/pothole/img1.jpg        NaN   \n",
       "1  5964.687390  Thiruvananthapuram   /static/pothole/img2.jpg        NaN   \n",
       "2  1538.500000  Thiruvananthapuram  /static/pothole/img12.jpg        NaN   \n",
       "\n",
       "   status  \n",
       "0     NaN  \n",
       "1     NaN  \n",
       "2     NaN  "
      ]
     },
     "execution_count": 2,
     "metadata": {},
     "output_type": "execute_result"
    }
   ],
   "source": [
    "df=pd.read_csv('pamefeed.csv')\n",
    "df"
   ]
  },
  {
   "cell_type": "code",
   "execution_count": 3,
   "id": "7a51ee6d",
   "metadata": {},
   "outputs": [],
   "source": [
    "def store_data_to_sqlite(data):\n",
    "    \"\"\"Stores data into SQLite database.\"\"\"\n",
    "    db_file = 'places.db'\n",
    "    conn = sqlite3.connect(db_file)\n",
    "    cursor = conn.cursor()\n",
    "    cursor.execute('''CREATE TABLE IF NOT EXISTS places\n",
    "                      (id INTEGER PRIMARY KEY AUTOINCREMENT, \n",
    "                       name REAL, details REAL, image REAL)''')\n",
    "    \n",
    "    # Insert data\n",
    "    for i in range(len(data)):\n",
    "        loc=df.loc[i]['field1']\n",
    "        dis= float(df.loc[i]['field2'])/100\n",
    "        cam_dis= float(df.loc[i]['field3'])/100\n",
    "        area= float(df.loc[i]['field4'])/10000\n",
    "        volume=area*(dis-cam_dis+2)\n",
    "        cost=volume*3400\n",
    "        place=df.loc[i]['Place']\n",
    "        img_loc=df.loc[i]['Location']\n",
    "        text=f'Location:{loc},area:{area} sqcm,volume:{volume} cubic meter,cost:{cost} Rs'\n",
    "        cursor.execute('INSERT INTO places (name, details, image) VALUES (?, ?, ?)',\n",
    "                       (place, text,img_loc))\n",
    "    \n",
    "    conn.commit()\n",
    "    cursor.close()\n",
    "    conn.close()"
   ]
  },
  {
   "cell_type": "code",
   "execution_count": 4,
   "id": "80f547ce",
   "metadata": {},
   "outputs": [],
   "source": [
    "store_data_to_sqlite(df)"
   ]
  },
  {
   "cell_type": "code",
   "execution_count": null,
   "id": "5188d46b",
   "metadata": {},
   "outputs": [],
   "source": []
  }
 ],
 "metadata": {
  "kernelspec": {
   "display_name": "Python 3 (ipykernel)",
   "language": "python",
   "name": "python3"
  },
  "language_info": {
   "codemirror_mode": {
    "name": "ipython",
    "version": 3
   },
   "file_extension": ".py",
   "mimetype": "text/x-python",
   "name": "python",
   "nbconvert_exporter": "python",
   "pygments_lexer": "ipython3",
   "version": "3.11.5"
  }
 },
 "nbformat": 4,
 "nbformat_minor": 5
}
